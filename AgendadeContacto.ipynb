{
 "cells": [
  {
   "cell_type": "markdown",
   "metadata": {},
   "source": [
    "# Agenda de Contactos"
   ]
  },
  {
   "cell_type": "markdown",
   "metadata": {},
   "source": [
    "## Este programa realiza lo siguente:\n",
    "-almacena un contacto que debera contener nombre completo, telefon fijo, telefono movil, correo electronico y ususario de github"
   ]
  },
  {
   "cell_type": "code",
   "execution_count": 25,
   "metadata": {},
   "outputs": [],
   "source": [
    "class Contacto: # Definicion de la clase Contacto con atributos como nombre telefono fijo telefono movil correo y GitHub.\n",
    "    def __init__(self, nombre, telefono_fijo, telefono_movil, correo, github):\n",
    "        self.nombre= nombre\n",
    "        self.telefono_fijo= telefono_fijo\n",
    "        self.telefono_movil= telefono_movil\n",
    "        self.correo= correo\n",
    "        self.github= github\n",
    "\n",
    "class AgendaContactos:  # Definicion de la clase AgendaContactos con una lista para almacenar contactos\n",
    "    def __init__(self): \n",
    "        self.Contactos= []\n",
    "    \n",
    "    def agrega_contactos(self, Contactos):  # Metodo para agragra un contacto a la lista\n",
    "        self.Contactos.append(Contactos)\n",
    "\n",
    "    def mostrar_contactos(self):    # Metado para mostrar la lista de contactos\n",
    "        for Contactos in self.Contactos:\n",
    "            print(f\"nombre: {Contactos.nombre}\")\n",
    "            print(f\"telefono fijo: {Contactos.telefono_fijo}\")\n",
    "            print(f\"telefono movil: {Contactos.telefono_movil}\")\n",
    "            print(f\"correo electronico: {Contactos.correo}\")\n",
    "            print(f\"usuario github: {Contactos.github}\")\n",
    "            print(\"\")\n",
    "    \n",
    "    def buscar_por_GitHUb(self, username):  # Metodo para buscar un contacto por el nombre\n",
    "        for Contacto in self.Contactos:\n",
    "            if Contacto.nombre == username:\n",
    "                print(\"Usuaruio  encontrado:\")\n",
    "                print(f\"nombre: {Contacto.nombre}\")\n",
    "                print(f\"telefono fijo: {Contacto.telefono_fijo}\")\n",
    "                print(f\"telefono movil: {Contacto.telefono_movil}\")\n",
    "                print(f\"correo electronico: {Contacto.correo}\")\n",
    "                print(f\"usuario github: {Contacto.github}\")\n",
    "                return\n",
    "            print(\"Usuario no encontrdo.\")\n"
   ]
  },
  {
   "cell_type": "code",
   "execution_count": 26,
   "metadata": {},
   "outputs": [],
   "source": [
    "agenda= AgendaContactos()   # Creacion de una instancia de la clase AgendaContactos\n",
    "#Creacion de dos instancias de la clase Contacto y agregar a la AGENDA\n",
    "Contacto1= Contacto(\"Juan Perez\", \"5050395820\", \"5590567459\",\"juan28@gmail.com\", \"juanGitHub\")\n",
    "Contacto2= Contacto(\"Maria Lopez\", \"6890659094\", \"5625145360\",\"mari8@gmail.com\", \"mariaGitHub\")\n",
    "\n",
    "agenda.agrega_contactos(Contacto1)\n",
    "agenda.agrega_contactos(Contacto2)"
   ]
  },
  {
   "cell_type": "code",
   "execution_count": 27,
   "metadata": {},
   "outputs": [
    {
     "name": "stdout",
     "output_type": "stream",
     "text": [
      "lista de contactos:\n",
      "nombre: Juan Perez\n",
      "telefono fijo: 5050395820\n",
      "telefono movil: 5590567459\n",
      "correo electronico: juan28@gmail.com\n",
      "usuario github: juanGitHub\n",
      "\n",
      "nombre: Maria Lopez\n",
      "telefono fijo: 6890659094\n",
      "telefono movil: 5625145360\n",
      "correo electronico: mari8@gmail.com\n",
      "usuario github: mariaGitHub\n",
      "\n"
     ]
    }
   ],
   "source": [
    "print(\"lista de contactos:\")\n",
    "# Mostrar la lista de contactos en la agenda\n",
    "agenda.mostrar_contactos()"
   ]
  },
  {
   "cell_type": "code",
   "execution_count": 28,
   "metadata": {},
   "outputs": [
    {
     "name": "stdout",
     "output_type": "stream",
     "text": [
      "\n",
      " Buscando usuario GitHUb 'Maria Lopez':\n",
      "Usuario no encontrdo.\n",
      "Usuaruio  encontrado:\n",
      "nombre: Maria Lopez\n",
      "telefono fijo: 6890659094\n",
      "telefono movil: 5625145360\n",
      "correo electronico: mari8@gmail.com\n",
      "usuario github: mariaGitHub\n"
     ]
    }
   ],
   "source": [
    "username_buscar = \"Maria Lopez\"\n",
    "# Solicitar al usuario que ingrese su nombre para buscar\n",
    "print(f\"\\n Buscando usuario GitHUb '{username_buscar}':\")\n",
    "#Buscar el usuario por su nombre en la agenda y la mostrar la informacion si se encuentra\n",
    "agenda.buscar_por_GitHUb(username_buscar)"
   ]
  }
 ],
 "metadata": {
  "kernelspec": {
   "display_name": "Python 3",
   "language": "python",
   "name": "python3"
  },
  "language_info": {
   "codemirror_mode": {
    "name": "ipython",
    "version": 3
   },
   "file_extension": ".py",
   "mimetype": "text/x-python",
   "name": "python",
   "nbconvert_exporter": "python",
   "pygments_lexer": "ipython3",
   "version": "3.11.6"
  }
 },
 "nbformat": 4,
 "nbformat_minor": 2
}
